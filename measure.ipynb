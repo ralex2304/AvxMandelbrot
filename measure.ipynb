{
 "cells": [
  {
   "cell_type": "code",
   "execution_count": 2,
   "metadata": {},
   "outputs": [],
   "source": [
    "import numpy as np\n",
    "import matplotlib.pyplot as plt\n",
    "import matplotlib as mpl\n",
    "import pandas as pd\n",
    "from scipy.optimize import curve_fit\n",
    "import os\n",
    "import time\n",
    "\n",
    "def meanWithInacc(arr):\n",
    "    mean = np.mean(arr)\n",
    "    n = len(arr)\n",
    "\n",
    "    rand_inacc = np.sqrt(sum([ 1 / (n * (n - 1)) * (x - mean)**2 for x in arr]))\n",
    "\n",
    "    return [mean, rand_inacc]"
   ]
  },
  {
   "cell_type": "code",
   "execution_count": 2,
   "metadata": {},
   "outputs": [],
   "source": [
    "N = 8\n",
    "COMPILERS = [\"g++ -O2\", \"g++ -O3\", \"clang++ -O2\", \"clang++ -O3\", \"g++ -O3 volatile\"]\n",
    "\n",
    "def measure(N, call):\n",
    "    times = []\n",
    "    ret = []\n",
    "\n",
    "    for i in range(N):\n",
    "\n",
    "        time_beg = time.time()\n",
    "\n",
    "        stream = os.popen(call)\n",
    "        res = int(stream.read())\n",
    "\n",
    "        ret.append(res)\n",
    "\n",
    "        times.append(time.time() - time_beg)\n",
    "\n",
    "    return ret, times\n",
    "\n",
    "results = [0] * (len(COMPILERS) * 3)"
   ]
  },
  {
   "cell_type": "code",
   "execution_count": 3,
   "metadata": {},
   "outputs": [],
   "source": [
    "tmp = measure(N, \"./gcc_O3_vol 1 2\") # прогрев проца"
   ]
  },
  {
   "cell_type": "code",
   "execution_count": 4,
   "metadata": {},
   "outputs": [],
   "source": [
    "results[0] = measure(N, \"./gcc_O2 1 0\")\n",
    "results[1] = measure(N, \"./gcc_O2 1 1\")\n",
    "results[2] = measure(N, \"./gcc_O2 1 2\")"
   ]
  },
  {
   "cell_type": "code",
   "execution_count": 5,
   "metadata": {},
   "outputs": [],
   "source": [
    "results[3] = measure(N, \"./gcc_O3 1 0\")\n",
    "results[4] = measure(N, \"./gcc_O3 1 1\")\n",
    "results[5] = measure(N, \"./gcc_O3 1 2\")"
   ]
  },
  {
   "cell_type": "code",
   "execution_count": 6,
   "metadata": {},
   "outputs": [],
   "source": [
    "results[6] = measure(N, \"./clang_O2 1 0\")\n",
    "results[7] = measure(N, \"./clang_O2 1 1\")\n",
    "results[8] = measure(N, \"./clang_O2 1 2\")"
   ]
  },
  {
   "cell_type": "code",
   "execution_count": 7,
   "metadata": {},
   "outputs": [],
   "source": [
    "results[9]  = measure(N, \"./clang_O3 1 0\")\n",
    "results[10] = measure(N, \"./clang_O3 1 1\")\n",
    "results[11] = measure(N, \"./clang_O3 1 2\")"
   ]
  },
  {
   "cell_type": "code",
   "execution_count": 8,
   "metadata": {},
   "outputs": [],
   "source": [
    "results[12] = measure(N, \"./gcc_O3_vol 1 0\")\n",
    "results[13] = measure(N, \"./gcc_O3_vol 1 1\")\n",
    "results[14] = measure(N, \"./gcc_O3_vol 1 2\")"
   ]
  },
  {
   "cell_type": "code",
   "execution_count": 69,
   "metadata": {},
   "outputs": [
    {
     "name": "stdout",
     "output_type": "stream",
     "text": [
      "|   | Naive | Vector no AVX | Vector AVX |\n",
      "|:-:|:-----:|:-------------:|:----------:|\n",
      "| `g++ -O2` | 36.8 | 5.8 | 5.7 |\n",
      "| `g++ -O3` | 37.0 | 19.5 | 5.7 |\n",
      "| `clang++ -O2` | 36.4 | 11.2 | 5.7 |\n",
      "| `clang++ -O3` | 36.5 | 11.2 | 5.7 |\n",
      "| `g++ -O3 volatile` | 36.7 | 19.3 | 5.7 |\n"
     ]
    }
   ],
   "source": [
    "print(\"\"\"|   | Naive | Vector no AVX | Vector AVX |\n",
    "|---|:-----:|:-------------:|:----------:|\"\"\")\n",
    "\n",
    "for i in range(len(COMPILERS)):\n",
    "    print(\"| `\" + COMPILERS[i] + \"` | %.1f | %.1f | %.1f |\" % (np.mean(results[i * 3][1]),\n",
    "                                                             np.mean(results[i * 3 + 1][1]),\n",
    "                                                             np.mean(results[i * 3 + 2][1])))"
   ]
  },
  {
   "cell_type": "code",
   "execution_count": 73,
   "metadata": {},
   "outputs": [
    {
     "name": "stdout",
     "output_type": "stream",
     "text": [
      "\n",
      "|   | Naive * 1e5 | Vector no AVX * 1e5 | Vector AVX * 1e5 |\n",
      "|---|:-----:|:-------------:|:----------:|\n",
      "| `g++ -O2` | 9520 ± 5 | 1466 ± 4 | 1455 ± 6 | \n",
      "| `g++ -O3` | 9560 ± 10 | 5022 ± 27 | 1456 ± 3 | \n",
      "| `clang++ -O2` | 9406 ± 8 | 2887 ± 13 | 1455 ± 4 | \n",
      "| `clang++ -O3` | 9436 ± 9 | 2876 ± 10 | 1458 ± 3 | \n",
      "| `g++ -O3 volatile` | 9474 ± 5 | 4982 ± 15 | 1450 ± 2 | \n"
     ]
    }
   ],
   "source": [
    "print(\"\"\"\n",
    "|   | Naive * 1e5 | Vector no AVX * 1e5 | Vector AVX * 1e5 |\n",
    "|---|:-----:|:-------------:|:----------:|\"\"\")\n",
    "\n",
    "ans = []\n",
    "text_ans = []\n",
    "\n",
    "for i in range(len(COMPILERS) * 3):\n",
    "    mean = meanWithInacc(results[i][0])\n",
    "\n",
    "    ans.append(mean)\n",
    "\n",
    "    if i % 3 == 0:\n",
    "        print(\"| `\" + COMPILERS[i // 3] + \"` | \", end = \"\")\n",
    "\n",
    "    print(str(int(np.round(mean[0] / 1e5))) + \" ± \" + str(int(np.round(mean[1] / 1e5))) + \" | \", end = \"\")\n",
    "\n",
    "    if i % 3 == 2:\n",
    "        print()\n",
    "\n"
   ]
  },
  {
   "cell_type": "code",
   "execution_count": null,
   "metadata": {},
   "outputs": [],
   "source": [
    "mpl.rcParams['font.size'] = 16\n",
    "plt.figure(figsize = (12,7), facecolor = \"white\")\n",
    "\n",
    "labels = []\n",
    "for i in COMPILERS:\n",
    "    labels.append(\" \")\n",
    "    labels.append(i)\n",
    "    labels.append(\" \")\n",
    "y = [ans_[0] for ans_ in ans]\n",
    "err_y = [ans_[1] for ans_ in ans]\n",
    "bar_colors = ['tab:red', 'tab:blue', 'tab:green']\n",
    "\n",
    "spaces = \"                                     \"\n",
    "\n",
    "bars = []\n",
    "for i in range(len(y)):\n",
    "    bars.append(plt.bar(COMPILERS[i // 3] if i % 3 == 1 else (\" \" * (len(y) + 1))[:i + 1], y[i], color = bar_colors[i % 3], yerr = err_y[i], error_kw=dict(lw=30), ecolor = \"purple\"))\n",
    "    #plt.bar_label(bars[-1], color = \"w\")\n",
    "\n",
    "\n",
    "\n",
    "plt.legend([\"Naive\", \"Vector\", \"AVX\"], loc='upper right')\n",
    "\n",
    "plt.ylabel(\"CPU ticks\")\n",
    "plt.title(\"Benchmark\")\n",
    "\n",
    "plt.minorticks_on()\n",
    "plt.tight_layout()\n",
    "\n",
    "plt.savefig(\"img/plot.png\")\n",
    "plt.show()"
   ]
  },
  {
   "cell_type": "code",
   "execution_count": 72,
   "metadata": {},
   "outputs": [
    {
     "name": "stdout",
     "output_type": "stream",
     "text": [
      "| col / row | Naive<br>`g++ -O2` | Vector<br>`g++ -O2` | AVX<br>`g++ -O2` | Naive<br>`g++ -O3` | Vector<br>`g++ -O3` | AVX<br>`g++ -O3` | Naive<br>`clang++ -O2` | Vector<br>`clang++ -O2` | AVX<br>`clang++ -O2` | Naive<br>`clang++ -O3` | Vector<br>`clang++ -O3` | AVX<br>`clang++ -O3` | Naive<br>`g++ -O3 volatile` | Vector<br>`g++ -O3 volatile` | AVX<br>`g++ -O3 volatile` |\n",
      "|---|:-:|:-:|:-:|:-:|:-:|:-:|:-:|:-:|:-:|:-:|:-:|:-:|:-:|:-:|:-:|\n",
      "| Naive<br>`g++ -O2` | 1 | 6.49 | 6.55 | 1.00 | 1.90 | 6.54 | 1.01 | 3.30 | 6.54 | 1.01 | 3.31 | 6.53 | 1.00 | 1.91 | 6.57 |\n",
      "| Vector<br>`g++ -O2` | 0.15 | 1 | 1.01 | 0.15 | 0.29 | 1.01 | 0.16 | 0.51 | 1.01 | 0.16 | 0.51 | 1.01 | 0.15 | 0.29 | 1.01 |\n",
      "| AVX<br>`g++ -O2` | 0.15 | 0.99 | 1 | 0.15 | 0.29 | 1.00 | 0.15 | 0.50 | 1.00 | 0.15 | 0.51 | 1.00 | 0.15 | 0.29 | 1.00 |\n",
      "| Naive<br>`g++ -O3` | 1.00 | 6.52 | 6.57 | 1 | 1.90 | 6.56 | 1.02 | 3.31 | 6.57 | 1.01 | 3.32 | 6.56 | 1.01 | 1.92 | 6.59 |\n",
      "| Vector<br>`g++ -O3` | 0.53 | 3.43 | 3.45 | 0.53 | 1 | 3.45 | 0.53 | 1.74 | 3.45 | 0.53 | 1.75 | 3.45 | 0.53 | 1.01 | 3.46 |\n",
      "| AVX<br>`g++ -O3` | 0.15 | 0.99 | 1.00 | 0.15 | 0.29 | 1 | 0.15 | 0.50 | 1.00 | 0.15 | 0.51 | 1.00 | 0.15 | 0.29 | 1.00 |\n",
      "| Naive<br>`clang++ -O2` | 0.99 | 6.42 | 6.47 | 0.98 | 1.87 | 6.46 | 1 | 3.26 | 6.46 | 1.00 | 3.27 | 6.45 | 0.99 | 1.89 | 6.49 |\n",
      "| Vector<br>`clang++ -O2` | 0.30 | 1.97 | 1.98 | 0.30 | 0.57 | 1.98 | 0.31 | 1 | 1.98 | 0.31 | 1.00 | 1.98 | 0.30 | 0.58 | 1.99 |\n",
      "| AVX<br>`clang++ -O2` | 0.15 | 0.99 | 1.00 | 0.15 | 0.29 | 1.00 | 0.15 | 0.50 | 1 | 0.15 | 0.51 | 1.00 | 0.15 | 0.29 | 1.00 |\n",
      "| Naive<br>`clang++ -O3` | 0.99 | 6.44 | 6.49 | 0.99 | 1.88 | 6.48 | 1.00 | 3.27 | 6.49 | 1 | 3.28 | 6.47 | 1.00 | 1.89 | 6.51 |\n",
      "| Vector<br>`clang++ -O3` | 0.30 | 1.96 | 1.98 | 0.30 | 0.57 | 1.97 | 0.31 | 1.00 | 1.98 | 0.30 | 1 | 1.97 | 0.30 | 0.58 | 1.98 |\n",
      "| AVX<br>`clang++ -O3` | 0.15 | 0.99 | 1.00 | 0.15 | 0.29 | 1.00 | 0.15 | 0.50 | 1.00 | 0.15 | 0.51 | 1 | 0.15 | 0.29 | 1.01 |\n",
      "| Naive<br>`g++ -O3 volatile` | 1.00 | 6.46 | 6.51 | 0.99 | 1.89 | 6.50 | 1.01 | 3.28 | 6.51 | 1.00 | 3.29 | 6.50 | 1 | 1.90 | 6.53 |\n",
      "| Vector<br>`g++ -O3 volatile` | 0.52 | 3.40 | 3.43 | 0.52 | 0.99 | 3.42 | 0.53 | 1.73 | 3.42 | 0.53 | 1.73 | 3.42 | 0.53 | 1 | 3.44 |\n",
      "| AVX<br>`g++ -O3 volatile` | 0.15 | 0.99 | 1.00 | 0.15 | 0.29 | 1.00 | 0.15 | 0.50 | 1.00 | 0.15 | 0.50 | 0.99 | 0.15 | 0.29 | 1 |\n"
     ]
    }
   ],
   "source": [
    "NAMES = []\n",
    "\n",
    "for label in COMPILERS:\n",
    "    NAMES.append(\"Naive<br>`\" + label + \"`\")\n",
    "    NAMES.append(\"Vector<br>`\" + label + \"`\")\n",
    "    NAMES.append(\"AVX<br>`\" + label + \"`\")\n",
    "\n",
    "print(\"| col / row \", end = \"\")\n",
    "for i in NAMES:\n",
    "    print(\"| \" + i + \" \", end = \"\")\n",
    "print(\"|\")\n",
    "\n",
    "print(\"|---\" + \"|:-:\" * len(NAMES) + \"|\")\n",
    "\n",
    "for i in range(len(NAMES)):\n",
    "    print(\"| \" + NAMES[i] + \" \", end = \"\")\n",
    "    for j in range(len(NAMES)):\n",
    "        if i != j:\n",
    "            print(\"| %.2f \" % (ans[i][0] / ans[j][0]), end = \"\")\n",
    "        else:\n",
    "            print(\"| 1 \", end = \"\")\n",
    "    print(\"|\")\n"
   ]
  },
  {
   "cell_type": "code",
   "execution_count": 68,
   "metadata": {},
   "outputs": [
    {
     "name": "stdout",
     "output_type": "stream",
     "text": [
      "| # | Naive<br>g++ -O2 | Vector<br>g++ -O2 | AVX<br>g++ -O2 | Naive<br>g++ -O3 | Vector<br>g++ -O3 | AVX<br>g++ -O3 | Naive<br>clang++ -O2 | Vector<br>clang++ -O2 | AVX<br>clang++ -O2 | Naive<br>clang++ -O3 | Vector<br>clang++ -O3 | AVX<br>clang++ -O3 | Naive<br>g++ -O3 volatile | Vector<br>g++ -O3 volatile | AVX<br>g++ -O3 volatile |\n",
      "|:-:|:-:|:-:|:-:|:-:|:-:|:-:|:-:|:-:|:-:|:-:|:-:|:-:|:-:|:-:|:-:|\n",
      "| 1 | 951289745 | 145591101 | 144455335 | 954894881 | 504535956 | 145260241 | 939651134 | 290497736 | 147098087 | 943167489 | 287512619 | 145428832 | 948109790 | 496397027 | 145668508 |\n",
      "| 2 | 954214679 | 147813479 | 146065958 | 956922193 | 495835068 | 146574314 | 941371955 | 293544671 | 145301655 | 942297629 | 285384865 | 146602422 | 947449792 | 496647743 | 144891270 |\n",
      "| 3 | 953298565 | 148790337 | 145564753 | 958869251 | 497547198 | 146715981 | 942937875 | 288420373 | 146038170 | 941252476 | 290772782 | 146930470 | 947693052 | 494036886 | 145013260 |\n",
      "| 4 | 952093549 | 146279456 | 147945257 | 957254259 | 496883223 | 144911084 | 939962659 | 286547162 | 144905604 | 942375616 | 291733639 | 145539931 | 946379076 | 497771596 | 143736347 |\n",
      "| 5 | 949335421 | 146439905 | 143861482 | 956273950 | 518788792 | 145284028 | 937640735 | 290009687 | 143840298 | 941725923 | 288110387 | 144413330 | 944640713 | 500318957 | 144940220 |\n",
      "| 6 | 952089738 | 145562891 | 147420988 | 959910752 | 496729253 | 146527144 | 937445624 | 285506153 | 144601764 | 944553753 | 286793748 | 146764020 | 947084534 | 492863825 | 144355143 |\n",
      "| 7 | 952068616 | 147003357 | 143992143 | 951036553 | 502704509 | 145703847 | 942104706 | 292011052 | 145724263 | 944108822 | 287493616 | 145542331 | 947798230 | 504176137 | 145392816 |\n",
      "| 8 | 951666646 | 145340830 | 144296211 | 952933738 | 504657089 | 144175592 | 943460446 | 282798906 | 146494695 | 949449771 | 282921146 | 144977714 | 950090216 | 503382399 | 145809551 |\n"
     ]
    }
   ],
   "source": [
    "print(\"| # \", end = \"\")\n",
    "for i in NAMES:\n",
    "    print(\"| \" + i + \" \", end = \"\")\n",
    "print(\"|\")\n",
    "\n",
    "print(\"|:-:\" * (len(NAMES) + 1) + \"|\")\n",
    "\n",
    "for i in range(N):\n",
    "    print(\"| {} |\".format(i + 1), end = \"\")\n",
    "    for j in range(len(NAMES)):\n",
    "        print(\" {} |\".format(results[j][0][i]), end = \"\")\n",
    "    print()"
   ]
  },
  {
   "cell_type": "code",
   "execution_count": 14,
   "metadata": {},
   "outputs": [
    {
     "name": "stdout",
     "output_type": "stream",
     "text": [
      "# Содержание\n",
      "\n",
      "1. [Множество Мандельброта](#множество-мандельброта)\n",
      "    1. [Программа](#программа)\n",
      "        1. [Режимы](#режимы)\n",
      "        2. [Реализации алгоритма](#реализации-алгоритма)\n",
      "        3. [Графический режим](#графический-режим)\n",
      "    2. [Измерение производительности](#измерение-производительности)\n",
      "        1. [Методика измерений](#методика-измерений)\n",
      "            1. [Параметры программы](#параметры-программы)\n",
      "        2. [Концигурации, для которых производилось измерение](#концигурации,-для-которых-производилось-измерение)\n",
      "        3. [Результаты](#результаты)\n",
      "        4. [Характерное время работы программы](#характерное-время-работы-программы)\n",
      "        5. [Средние значения количества тактов процессора на 1 кадр](#средние-значения-количества-тактов-процессора-на-1-кадр)\n",
      "        6. [Итоги](#итоги)\n",
      "    3. [Зависимости программы](#зависимости-программы)\n",
      "2. [Источники и инструменты](#источники-и-инструменты)\n",
      "3. [Благодарности](#благодарности)\n",
      "\n"
     ]
    }
   ],
   "source": [
    "# Автооглавление README\n",
    "\n",
    "file = open(\"README.md\")\n",
    "\n",
    "lines = file.readlines()\n",
    "\n",
    "contents = \"# Содержание\\n\\n\"\n",
    "counters = [0] * 4\n",
    "level = 0\n",
    "\n",
    "for line in lines:\n",
    "    if not line.startswith(\"#\") or line == \"# Содержание\\n\":\n",
    "        continue\n",
    "\n",
    "    cur_level = 0\n",
    "    while (cur_level + 1) < len(line) and line[cur_level + 1] == \"#\":\n",
    "        cur_level += 1\n",
    "\n",
    "    if cur_level >= len(counters):\n",
    "        print(\"Error. More counters needed\")\n",
    "\n",
    "    if cur_level < level:\n",
    "        for i in range(cur_level + 1, len(counters)):\n",
    "            counters[i] = 0\n",
    "\n",
    "    level = cur_level\n",
    "\n",
    "    header = line[cur_level + 2:-1]\n",
    "\n",
    "    link = \"#\" + header.lower().replace(\" \", \"-\").replace(\"(\", \"\").replace(\")\", \"\").replace(\".\", \"\").replace(\"`\", \"\").replace(\":\",\"\")\n",
    "\n",
    "    contents += \"    \" * cur_level + str(counters[cur_level] + 1) + \". [\" + header + \"](\" + link + \")\\n\"\n",
    "    counters[cur_level] += 1\n",
    "\n",
    "print(contents)"
   ]
  }
 ],
 "metadata": {
  "kernelspec": {
   "display_name": "Python 3",
   "language": "python",
   "name": "python3"
  },
  "language_info": {
   "codemirror_mode": {
    "name": "ipython",
    "version": 3
   },
   "file_extension": ".py",
   "mimetype": "text/x-python",
   "name": "python",
   "nbconvert_exporter": "python",
   "pygments_lexer": "ipython3",
   "version": "3.11.8"
  }
 },
 "nbformat": 4,
 "nbformat_minor": 2
}
